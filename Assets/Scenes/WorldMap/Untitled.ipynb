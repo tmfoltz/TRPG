{
 "cells": [
  {
   "cell_type": "code",
   "execution_count": 268,
   "metadata": {
    "collapsed": true
   },
   "outputs": [],
   "source": [
    "import numpy as np\n",
    "import math as math\n",
    "import copy as copy\n",
    "import matplotlib.pyplot as plt\n",
    "import random"
   ]
  },
  {
   "cell_type": "code",
   "execution_count": 269,
   "metadata": {},
   "outputs": [],
   "source": [
    "def sideLength(r):\n",
    "    return int(math.sqrt(r.size))\n",
    "\n",
    "def weight(rs):\n",
    "    #elevation_arr = (elevation_arr1*.25 + elevation_arr2*.5 + elevation_arr3*.75 + elevation_arr4*3) /3\n",
    "    r = np.full((sideLength(rs[0]),sideLength(rs[0])),0)\n",
    "    for i in range(0, len(rs)):\n",
    "        r = r + rs[i]*(i+1+i*i/(i+2)/(i+10))\n",
    "    r = r/len(rs)\n",
    "    return r\n",
    "\n",
    "def MakeRandomMatrix(size, variance, clusterSize):\n",
    "    np.set_printoptions(threshold=np.nan)\n",
    "    from scipy.ndimage.interpolation import zoom\n",
    "    arr1 = np.random.uniform(size=(10,10))\n",
    "    arr1 = zoom(arr1, size/10)\n",
    "    arr2 = np.random.uniform(size=(4,4))\n",
    "    arr2 = zoom(arr2, size/4)\n",
    "    arr3 = np.random.uniform(size=(2,2))\n",
    "    arr3 = zoom(arr3, size/2)\n",
    "    arr4 = np.random.uniform(size=(1,1))\n",
    "    arr4 = zoom(arr4, size)\n",
    "\n",
    "    #Default\n",
    "    raster = [arr1, arr2, arr3, arr4]\n",
    "    #clusterSize1\n",
    "    if(variance == 1 and clusterSize == 4):\n",
    "        raster = [arr4]\n",
    "    elif(variance == 2 and clusterSize == 4):\n",
    "        raster = [arr3, arr4]\n",
    "    elif(variance == 3 and clusterSize == 4):\n",
    "        raster = [arr2, arr3, arr4]   \n",
    "    elif(variance > 3 and clusterSize == 4):\n",
    "        raster = [arr1, arr2, arr3, arr4]           \n",
    "    #clusterSize2\n",
    "    elif(variance == 1 and clusterSize == 3):\n",
    "        raster = [arr3]\n",
    "    elif(variance == 2 and clusterSize == 3):\n",
    "        raster = [arr2, arr3]\n",
    "    elif(variance > 2 and clusterSize == 3):\n",
    "        raster = [arr1, arr2, arr3] \n",
    "    #clusterSize3\n",
    "    elif(variance == 1 and clusterSize == 2):\n",
    "        raster = [arr2]\n",
    "    elif(variance > 1 and clusterSize == 2):\n",
    "        raster = [arr1, arr2]\n",
    "    #clusterSize1\n",
    "    elif(clusterSize == 1):\n",
    "        raster = [arr4,arr3,arr2,arr1]\n",
    "    \n",
    "    \n",
    "    \n",
    "    raster = weight(raster)\n",
    "    \n",
    "    return raster\n",
    "\n",
    "def updateValue(arr, value, position):\n",
    "    arr[position[0]][position[1]]=value\n",
    "    return arr"
   ]
  },
  {
   "cell_type": "code",
   "execution_count": 270,
   "metadata": {
    "collapsed": true
   },
   "outputs": [],
   "source": [
    "def normalize(r, a, b, c, d):\n",
    "    a = 0\n",
    "    b = 10\n",
    "    c = 8\n",
    "    d = 15\n",
    "    rmax = r.max()\n",
    "    rmin = r.min()\n",
    "    for i in range(0, sideLength(r)):\n",
    "        for j in range(0, sideLength(r)):\n",
    "            r[i][j]=(b-a)*(r[i][j]-rmin)/(rmax-rmin)+a\n",
    "            if(r[i][j] > 8):\n",
    "                r[i][j]=(d-c)*(r[i][j]-c)/(b-c)+c\n",
    "    return r"
   ]
  },
  {
   "cell_type": "code",
   "execution_count": 271,
   "metadata": {},
   "outputs": [
    {
     "data": {
      "text/plain": [
       "0.0"
      ]
     },
     "execution_count": 271,
     "metadata": {},
     "output_type": "execute_result"
    },
    {
     "data": {
      "image/png": "[encoded data removed]",
      "text/plain": [
       "<matplotlib.figure.Figure at 0xb40a940>"
      ]
     },
     "metadata": {},
     "output_type": "display_data"
    }
   ],
   "source": [
    "%matplotlib inline\n",
    "import numpy as np\n",
    "import matplotlib.pyplot as plt\n",
    "r = MakeRandomMatrix(20, 4, 3)\n",
    "r = normalize(r, 0, 10, 8, 15)\n",
    "waterElevation = 2\n",
    "plt.matshow(r)\n",
    "r.min()"
   ]
  },
  {
   "cell_type": "code",
   "execution_count": 272,
   "metadata": {},
   "outputs": [],
   "source": [
    "def erode(e_arr):\n",
    "    mtxSize = sideLength(e_arr)\n",
    "    \n",
    "    b_arr = MakeRandomMatrix(mtxSize, 4, 1)\n",
    "    b_arr = normalize(b_arr, 0, 10, 8, 10)\n",
    "    b_arr[e_arr < 1] = 20\n",
    "    \n",
    "    mtxSize = sideLength(e_arr)\n",
    "    \n",
    "    riverends = np.zeros((mtxSize,mtxSize))\n",
    "    \n",
    "\n",
    "    neighbours = np.array([[-1,0], [0,1], [1,0],[0,-1]])\n",
    "    w_arr = np.full((mtxSize, mtxSize),.1)\n",
    "    e_out = copy.copy(e_arr)\n",
    "    eMaxIndex = tuple([0,5])\n",
    "    wIndex = None\n",
    "    while(e_arr.max() > -10000):\n",
    "        eMaxIndex = np.unravel_index(np.argmax(e_arr, axis=None), e_arr.shape)\n",
    "        newNeighbours = neighbours + eMaxIndex\n",
    "        minElevation = e_arr.max()\n",
    "        #if(wIndex is not None):\n",
    "        #    print(w_arr[wIndex])\n",
    "        wIndex = None\n",
    "        edge = False\n",
    "        for i in range(0,4):\n",
    "            if(newNeighbours[i][0]>=mtxSize or newNeighbours[i][1]>=mtxSize or newNeighbours[i][0]<0 or newNeighbours[i][1]<0):\n",
    "                edge = True\n",
    "                break;\n",
    "            elevation = e_arr[tuple(newNeighbours[i])]\n",
    "            if(elevation < minElevation and elevation != -10000):\n",
    "                wIndex = tuple(newNeighbours[i])\n",
    "                minElevation = elevation\n",
    "                \n",
    "        if(wIndex is None):\n",
    "            minElevation = round(e_arr.max(),1)\n",
    "            for i in range(0,4):\n",
    "                if(newNeighbours[i][0]>=mtxSize or newNeighbours[i][1]>=mtxSize or newNeighbours[i][0]<0 or newNeighbours[i][1]<0):\n",
    "                    edge = True\n",
    "                    break;\n",
    "                elevation = round(e_arr[tuple(newNeighbours[i])],1)\n",
    "                if(elevation <= minElevation and elevation != -10000):\n",
    "                    wIndex = tuple(newNeighbours[i])\n",
    "                    minElevation = elevation\n",
    "        if(wIndex is not None):\n",
    "            waterVolume = w_arr[eMaxIndex]+w_arr[wIndex]\n",
    "            if(waterVolume > 10):\n",
    "                waterVolume = 10\n",
    "                b_arr = updateValue(b_arr, 20, wIndex)\n",
    "            w_arr = updateValue(w_arr, waterVolume, wIndex)\n",
    "            e_out = updateValue(e_out, e_out[eMaxIndex] + waterVolume*.2, eMaxIndex)\n",
    "            e_out = updateValue(e_out, e_out[wIndex] - waterVolume*.2, wIndex)\n",
    "        elif(not edge):\n",
    "            e_out = updateValue(e_out, e_out[eMaxIndex] + w_arr[eMaxIndex]*.2, eMaxIndex)\n",
    "            riverends = updateValue(riverends, 1, eMaxIndex)\n",
    "            pass\n",
    "        e_arr = updateValue(e_arr, -10000, eMaxIndex)\n",
    "    \n",
    "    lakes = np.zeros(mtxSize)\n",
    "    for i in range(0, mtxSize):\n",
    "        for j in range(0, mtxSize):\n",
    "            if(riverends[i][j] != 0):\n",
    "                b_arr, e_out = formLake(b_arr, e_out, i,j)\n",
    "\n",
    "    \n",
    "    return e_out, w_arr, b_arr"
   ]
  },
  {
   "cell_type": "code",
   "execution_count": 273,
   "metadata": {
    "collapsed": true
   },
   "outputs": [],
   "source": [
    "def formLake(b_arr, e_arr, i, j):\n",
    "    mtxSize = sideLength(e_arr)\n",
    "    neighbours = np.array([[-1,0], [0,1], [1,0],[0,-1]])\n",
    "    neighbourList = neighbours + tuple([i,j])\n",
    "    #print(\"-------------------\")\n",
    "    locations = []\n",
    "    pastElevation = -1000\n",
    "    for a in range(0, random.randint(mtxSize/4,mtxSize/2)):\n",
    "        #print(tuple([i,j]))\n",
    "        newNeighbours = neighbours + tuple([i,j])\n",
    "        neighbourList = np.concatenate((neighbourList, newNeighbours))\n",
    "        #print(neighbourList)\n",
    "        minElevation = 1000\n",
    "        edge = False\n",
    "        for a in range(0,len(neighbourList)):\n",
    "            if(neighbourList[a][0]>=mtxSize or neighbourList[a][1]>=mtxSize or neighbourList[a][0]<0 or neighbourList[a][1]<0):\n",
    "                edge = True\n",
    "                break;\n",
    "            wIndex = tuple(neighbourList[a])\n",
    "            elevation = e_arr[wIndex]\n",
    "            #print(wIndex, elevation, minElevation, pastElevation)\n",
    "            if(elevation < minElevation and elevation > pastElevation):\n",
    "                minElevation = elevation\n",
    "                i = wIndex[0]\n",
    "                j = wIndex[1]\n",
    "        if(edge):\n",
    "            break\n",
    "        #print([i,j])\n",
    "        b_arr = updateValue(b_arr, 20, tuple([i,j]))\n",
    "        location = tuple([i,j])\n",
    "        \n",
    "        locations.append(location)\n",
    "        for k in range(0, len(locations)):\n",
    "            e_arr = updateValue(e_arr, 0, locations[k])\n",
    "        pastElevation = minElevation\n",
    "        #print(\"--\")\n",
    "        \n",
    "    return b_arr, e_arr"
   ]
  },
  {
   "cell_type": "code",
   "execution_count": 274,
   "metadata": {},
   "outputs": [],
   "source": [
    "r, water_arr, b_arr = erode(r)"
   ]
  },
  {
   "cell_type": "markdown",
   "metadata": {},
   "source": [
    "       (b-a)(x - min)\n",
    "f(x) = --------------  + a\n",
    "          max - min"
   ]
  },
  {
   "cell_type": "code",
   "execution_count": 275,
   "metadata": {},
   "outputs": [
    {
     "data": {
      "image/png": "[encoded data removed]",
      "text/plain": [
       "<matplotlib.figure.Figure at 0xace6400>"
      ]
     },
     "metadata": {},
     "output_type": "display_data"
    },
    {
     "data": {
      "image/png": "[encoded data removed]",
      "text/plain": [
       "<matplotlib.figure.Figure at 0x9496be0>"
      ]
     },
     "metadata": {},
     "output_type": "display_data"
    },
    {
     "data": {
      "image/png": "[encoded data removed]",
      "text/plain": [
       "<matplotlib.figure.Figure at 0x946d518>"
      ]
     },
     "metadata": {},
     "output_type": "display_data"
    }
   ],
   "source": [
    "%matplotlib inline\n",
    "\n",
    "plt.matshow(r) \n",
    "plt.matshow(water_arr)\n",
    "plt.matshow(b_arr)\n",
    "np.savetxt(\"biome.csv\", b_arr, fmt='%f,')\n",
    "np.savetxt(\"elevation.csv\", r, fmt='%f,')"
   ]
  },
  {
   "cell_type": "code",
   "execution_count": null,
   "metadata": {
    "collapsed": true
   },
   "outputs": [],
   "source": []
  },
  {
   "cell_type": "code",
   "execution_count": null,
   "metadata": {
    "collapsed": true
   },
   "outputs": [],
   "source": []
  },
  {
   "cell_type": "code",
   "execution_count": null,
   "metadata": {
    "collapsed": true
   },
   "outputs": [],
   "source": []
  },
  {
   "cell_type": "code",
   "execution_count": null,
   "metadata": {
    "collapsed": true
   },
   "outputs": [],
   "source": []
  },
  {
   "cell_type": "code",
   "execution_count": 177,
   "metadata": {},
   "outputs": [
    {
     "name": "stdout",
     "output_type": "stream",
     "text": [
      "(198, 131)\n",
      "<type 'tuple'>\n",
      "23.4466849668\n",
      "23.4466849668\n"
     ]
    }
   ],
   "source": []
  },
  {
   "cell_type": "code",
   "execution_count": null,
   "metadata": {
    "collapsed": true
   },
   "outputs": [],
   "source": []
  },
  {
   "cell_type": "code",
   "execution_count": null,
   "metadata": {
    "collapsed": true
   },
   "outputs": [],
   "source": []
  },
  {
   "cell_type": "code",
   "execution_count": null,
   "metadata": {
    "collapsed": true
   },
   "outputs": [],
   "source": []
  },
  {
   "cell_type": "code",
   "execution_count": null,
   "metadata": {
    "collapsed": true
   },
   "outputs": [],
   "source": []
  },
  {
   "cell_type": "code",
   "execution_count": null,
   "metadata": {
    "collapsed": true
   },
   "outputs": [],
   "source": []
  },
  {
   "cell_type": "code",
   "execution_count": null,
   "metadata": {
    "collapsed": true
   },
   "outputs": [],
   "source": []
  },
  {
   "cell_type": "code",
   "execution_count": null,
   "metadata": {
    "collapsed": true
   },
   "outputs": [],
   "source": []
  },
  {
   "cell_type": "code",
   "execution_count": null,
   "metadata": {
    "collapsed": true
   },
   "outputs": [],
   "source": []
  },
  {
   "cell_type": "code",
   "execution_count": null,
   "metadata": {
    "collapsed": true
   },
   "outputs": [],
   "source": []
  },
  {
   "cell_type": "code",
   "execution_count": null,
   "metadata": {
    "collapsed": true
   },
   "outputs": [],
   "source": []
  },
  {
   "cell_type": "code",
   "execution_count": null,
   "metadata": {
    "collapsed": true
   },
   "outputs": [],
   "source": []
  },
  {
   "cell_type": "code",
   "execution_count": null,
   "metadata": {
    "collapsed": true
   },
   "outputs": [],
   "source": []
  },
  {
   "cell_type": "code",
   "execution_count": null,
   "metadata": {
    "collapsed": true
   },
   "outputs": [],
   "source": []
  },
  {
   "cell_type": "code",
   "execution_count": null,
   "metadata": {
    "collapsed": true
   },
   "outputs": [],
   "source": []
  },
  {
   "cell_type": "code",
   "execution_count": null,
   "metadata": {
    "collapsed": true
   },
   "outputs": [],
   "source": []
  },
  {
   "cell_type": "code",
   "execution_count": null,
   "metadata": {
    "collapsed": true
   },
   "outputs": [],
   "source": []
  },
  {
   "cell_type": "code",
   "execution_count": 377,
   "metadata": {
    "collapsed": true
   },
   "outputs": [],
   "source": [
    "np.savetxt(\"text.csv\", new_elevation_arr, fmt='%f,')"
   ]
  },
  {
   "cell_type": "code",
   "execution_count": 378,
   "metadata": {
    "collapsed": true
   },
   "outputs": [],
   "source": [
    "np.savetxt(\"text2.csv\", biomeArr, fmt='%f,')"
   ]
  },
  {
   "cell_type": "code",
   "execution_count": null,
   "metadata": {
    "collapsed": true
   },
   "outputs": [],
   "source": []
  }
 ],
 "metadata": {
  "kernelspec": {
   "display_name": "Python 2",
   "language": "python",
   "name": "python2"
  },
  "language_info": {
   "codemirror_mode": {
    "name": "ipython",
    "version": 2
   },
   "file_extension": ".py",
   "mimetype": "text/x-python",
   "name": "python",
   "nbconvert_exporter": "python",
   "pygments_lexer": "ipython2",
   "version": "2.7.13"
  }
 },
 "nbformat": 4,
 "nbformat_minor": 2
}
